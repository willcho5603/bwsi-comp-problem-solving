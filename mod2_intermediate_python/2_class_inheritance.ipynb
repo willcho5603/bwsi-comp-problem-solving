{
 "cells": [
  {
   "cell_type": "markdown",
   "metadata": {},
   "source": [
    "# Intermediate Python: Class Inheritance"
   ]
  },
  {
   "cell_type": "markdown",
   "metadata": {},
   "source": [
    "## Review of Object Oriented Programming"
   ]
  },
  {
   "cell_type": "markdown",
   "metadata": {},
   "source": [
    "### What is OOP?\n",
    "\n",
    "**Object-Oriented Programming (OOP)** is a programming paradigm that organizes code around **objects** — bundles of data (attributes) and behaviors (methods) that work together.\n",
    "\n",
    "### Quick Refresher\n",
    "\n",
    "If you need a review, check out these resources from the BWSI Intro Python course:\n",
    "- [Introduction to OOP](https://github.com/kxgallant/bwsi-intro-python/blob/main/mod6_object_oriented_programming/1_intro_to_oop.ipynb)\n",
    "- [Writing Classes](https://github.com/kxgallant/bwsi-intro-python/blob/main/mod6_object_oriented_programming/2_writing_classes.ipynb)\n",
    "- [OOP vs Functions](https://github.com/kxgallant/bwsi-intro-python/blob/main/mod6_object_oriented_programming/3_oop_vs_functions.ipynb)\n",
    "\n",
    "---\n",
    "\n",
    "### Why Use OOP?\n",
    "\n",
    "OOP is particularly useful when:\n",
    "- **Modeling real-world entities:** Cars, students, bank accounts, etc.\n",
    "- **Managing complex state:** When data and behaviors are tightly coupled\n",
    "- **Building reusable code:** Create blueprints (classes) that can be instantiated many times\n",
    "- **Organizing large projects:** Group related functionality together\n",
    "\n",
    "---\n",
    "\n",
    "### OOP vs. Functional Programming\n",
    "\n",
    "| Aspect | OOP | Functional Programming |\n",
    "|--------|-----|------------------------|\n",
    "| **Focus** | Objects with state and behavior | Pure functions and transformations |\n",
    "| **Data** | Encapsulated in objects | Passed as function arguments |\n",
    "| **State** | Objects maintain internal state | Avoids mutable state |\n",
    "| **Best For** | Modeling systems, simulations, GUIs | Data transformations, parallel processing |\n",
    "\n",
    "**Key Insight:** Python supports both paradigms! You can use OOP when modeling entities and their relationships, and functional approaches when transforming data. Many real-world programs use both.\n",
    "\n",
    "---"
   ]
  },
  {
   "cell_type": "markdown",
   "metadata": {},
   "source": [
    "## Inheritance"
   ]
  },
  {
   "cell_type": "markdown",
   "metadata": {},
   "source": [
    "### What is Inheritance?\n",
    "\n",
    "**Inheritance** is a fundamental concept in OOP that allows a class to **inherit attributes and methods** from another class. This creates a parent-child relationship between classes.\n",
    "\n",
    "- **Parent Class (Base/Super Class):** The class being inherited from\n",
    "- **Child Class (Derived/Sub Class):** The class that inherits from the parent\n",
    "\n",
    "---\n",
    "\n",
    "### Why Use Inheritance?\n",
    "\n",
    "| Benefit | Description |\n",
    "|---------|-------------|\n",
    "| **Code Reuse** | Avoid repeating code by inheriting common functionality |\n",
    "| **Logical Hierarchy** | Model real-world \"is-a\" relationships (e.g., a GoldenRetriever *is a* Dog) |\n",
    "| **Extensibility** | Add specialized behavior to child classes without modifying the parent |\n",
    "| **Maintainability** | Update shared functionality in one place (the parent class) |\n",
    "\n",
    "---\n",
    "\n",
    "### The Three-Level Hierarchy\n",
    "\n",
    "It's important to understand the distinction between:\n",
    "\n",
    "1. **Parent Class:** The general blueprint (e.g., `Dog`)\n",
    "2. **Child Class:** A specialized version (e.g., `GoldenRetriever`, `Poodle`)\n",
    "3. **Instance:** An actual object created from a class (e.g., `my_dog = GoldenRetriever(\"Buddy\")`)\n",
    "\n",
    "---"
   ]
  },
  {
   "cell_type": "markdown",
   "metadata": {},
   "source": [
    "### Basic Syntax\n",
    "\n",
    "To create a child class that inherits from a parent class:\n",
    "\n",
    "```python\n",
    "class ChildClass(ParentClass):\n",
    "    def __init__(self, child_params, parent_params):\n",
    "        super().__init__(parent_params)  # Call parent's __init__\n",
    "        self.child_attribute = child_params\n",
    "    \n",
    "    def child_method(self):\n",
    "        # New method specific to child class\n",
    "        pass\n",
    "```\n",
    "\n",
    "**Key Points:**\n",
    "- Use `super().__init__()` to call the parent class's constructor\n",
    "- Child classes can add new attributes and methods\n",
    "- Child classes can **override** parent methods by redefining them\n",
    "\n",
    "---\n"
   ]
  },
  {
   "cell_type": "markdown",
   "metadata": {},
   "source": [
    "## Example: Dog Breeds\n",
    "\n",
    "Let's model different dog breeds using inheritance!\n",
    "\n",
    "### Step 1: Create the Parent Class\n",
    "\n",
    "First, we'll create a general `Dog` class with attributes and methods common to all dogs.\n"
   ]
  },
  {
   "cell_type": "code",
   "execution_count": 1,
   "metadata": {},
   "outputs": [],
   "source": [
    "class Dog:\n",
    "    \"\"\"A general Dog class with common attributes and methods\"\"\"\n",
    "    \n",
    "    def __init__(self, name, age):\n",
    "        self.name = name\n",
    "        self.age = age\n",
    "    \n",
    "    def bark(self):\n",
    "        return f\"{self.name} says: Woof!\"\n",
    "    \n",
    "    def get_info(self):\n",
    "        return f\"{self.name} is {self.age} years old\"\n"
   ]
  },
  {
   "cell_type": "code",
   "execution_count": 4,
   "metadata": {},
   "outputs": [
    {
     "name": "stdout",
     "output_type": "stream",
     "text": [
      "Rex says: Woof!\n",
      "Rex is 5 years old\n"
     ]
    }
   ],
   "source": [
    "# Create an instance of Dog\n",
    "generic_dog = Dog(\"Rex\", 5)\n",
    "print(generic_dog.bark())\n",
    "print(generic_dog.get_info())\n"
   ]
  },
  {
   "cell_type": "markdown",
   "metadata": {},
   "source": [
    "### Step 2: Create Child Classes\n",
    "\n",
    "Now we'll create specialized breed classes that inherit from `Dog` and add breed-specific attributes and behaviors.\n"
   ]
  },
  {
   "cell_type": "code",
   "execution_count": 7,
   "metadata": {},
   "outputs": [],
   "source": [
    "class GoldenRetriever(Dog):\n",
    "    \"\"\"A Golden Retriever - friendly and loves water\"\"\"\n",
    "    \n",
    "    def __init__(self, name, age, loves_swimming=True):\n",
    "        super().__init__(name, age)  # Call parent class constructor\n",
    "        self.loves_swimming = loves_swimming\n",
    "    \n",
    "    def fetch(self):\n",
    "        return f\"{self.name} retrieves the ball!\"\n",
    "    \n",
    "    def bark(self):\n",
    "        # Override parent method with breed-specific behavior\n",
    "        return f\"{self.name} says: Woof woof! (friendly bark)\"\n",
    "\n",
    "\n",
    "class Poodle(Dog):\n",
    "    \"\"\"A Poodle - intelligent and elegant\"\"\"\n",
    "    \n",
    "    def __init__(self, name, age, haircut_style=\"standard\"):\n",
    "        super().__init__(name, age)\n",
    "        self.haircut_style = haircut_style\n",
    "    \n",
    "    def perform_trick(self):\n",
    "        return f\"{self.name} does a fancy trick!\"\n",
    "    \n",
    "    def bark(self):\n",
    "        # Override with a different breed-specific behavior\n",
    "        return f\"{self.name} says: Yip yip! (high-pitched bark)\"\n"
   ]
  },
  {
   "cell_type": "code",
   "execution_count": null,
   "metadata": {},
   "outputs": [
    {
     "name": "stdout",
     "output_type": "stream",
     "text": [
      "=== Golden Retriever ===\n",
      "Buddy says: Woof woof! (friendly bark)\n",
      "Buddy retrieves the ball!\n",
      "Buddy is 3 years old\n",
      "Loves swimming: True\n",
      "\n",
      "=== Poodle ===\n",
      "Princess says: Yip yip! (high-pitched bark)\n",
      "Princess does a fancy trick!\n",
      "Princess is 2 years old\n",
      "Haircut style: teddy bear\n"
     ]
    }
   ],
   "source": [
    "# Create instances of child classes\n",
    "buddy = GoldenRetriever(\"Buddy\", 3)\n",
    "princess = Poodle(\"Princess\", 2, haircut_style=\"teddy bear\")\n",
    "\n",
    "print(\"=== Golden Retriever ===\")\n",
    "print(buddy.bark())           # Uses overridden method\n",
    "print(buddy.fetch())          # Uses unique method\n",
    "print(buddy.get_info())       # Inherits from parent\n",
    "print(f\"Loves swimming: {buddy.loves_swimming}\")\n",
    "\n",
    "print(\"\\n=== Poodle ===\")\n",
    "print(princess.bark())        # Uses overridden method\n",
    "print(princess.perform_trick())  # Uses unique method\n",
    "print(princess.get_info())    # Inherits from parent\n",
    "print(f\"Haircut style: {princess.haircut_style}\")\n"
   ]
  },
  {
   "cell_type": "markdown",
   "metadata": {},
   "source": [
    "### Key Observations\n",
    "\n",
    "**What happened here?**\n",
    "\n",
    "1. **Inheritance:** Both `GoldenRetriever` and `Poodle` inherit from `Dog`\n",
    "   - They get `name`, `age`, and `get_info()` automatically\n",
    "   \n",
    "2. **Extension:** Child classes add new attributes and methods\n",
    "   - `GoldenRetriever` adds `loves_swimming` and `fetch()`\n",
    "   - `Poodle` adds `haircut_style` and `perform_trick()`\n",
    "   \n",
    "3. **Overriding:** Child classes redefine `bark()` with breed-specific behavior\n",
    "   - Each breed has its own unique bark!\n",
    "   \n",
    "4. **The `super()` function:** Calls the parent class's `__init__()` \n",
    "   - Ensures proper initialization of inherited attributes\n",
    "\n",
    "---\n"
   ]
  },
  {
   "cell_type": "markdown",
   "metadata": {},
   "source": [
    "### Understanding: Class vs. Instance\n",
    "\n",
    "Let's clarify the three levels with our dog example:\n",
    "\n",
    "| Level | Type | Example | Description |\n",
    "|-------|------|---------|-------------|\n",
    "| **Level 1** | Parent Class | `Dog` | The general blueprint for all dogs |\n",
    "| **Level 2** | Child Class | `GoldenRetriever`, `Poodle` | Specialized blueprints for specific breeds |\n",
    "| **Level 3** | Instance | `buddy`, `princess` | Actual dog objects with specific data |\n",
    "\n",
    "**Think of it this way:**\n",
    "- `Dog` is like saying \"dogs in general\"\n",
    "- `GoldenRetriever` is like saying \"golden retrievers as a breed\"\n",
    "- `buddy = GoldenRetriever(\"Buddy\", 3)` is a **specific** golden retriever named Buddy\n",
    "\n",
    "---\n"
   ]
  },
  {
   "cell_type": "markdown",
   "metadata": {},
   "source": [
    "## Your Turn: Cat Exercise\n",
    "\n",
    "Now it's your turn to practice inheritance! Below is a skeleton of a `Cat` class. Your task is to:\n",
    "\n",
    "1. Create a `Tuxedo` child class that inherits from `Cat`\n",
    "2. Add at least one new attribute specific to Tuxedo cats\n",
    "3. Add at least one new method specific to Tuxedo cats\n",
    "4. Override the `meow()` method with a Tuxedo-specific meow\n",
    "5. Create instances of both `Cat` and `Tuxedo` to demonstrate the difference\n",
    "\n",
    "---\n",
    "\n",
    "### Cat Parent Class (Given)\n"
   ]
  },
  {
   "cell_type": "code",
   "execution_count": null,
   "metadata": {},
   "outputs": [],
   "source": [
    "class Cat:\n",
    "    \"\"\"A general Cat class\"\"\"\n",
    "    \n",
    "    def __init__(self, name, age):\n",
    "        self.name = name\n",
    "        self.age = age\n",
    "    \n",
    "    def meow(self):\n",
    "        return f\"{self.name} says: Meow!\"\n",
    "    \n",
    "    def get_info(self):\n",
    "        return f\"{self.name} is {self.age} years old\"\n"
   ]
  },
  {
   "cell_type": "markdown",
   "metadata": {},
   "source": [
    "### Task 1: Create a Tuxedo Child Class\n",
    "\n",
    "**Hints:**\n",
    "- Tuxedo cats are known for their black and white coloring (like a tuxedo suit!)\n",
    "- You might add attributes like `has_bow_tie` or `white_chest`\n",
    "- You could add a method like `show_off_tuxedo()` or `look_fancy()`\n",
    "- Remember to use `super().__init__()` to initialize parent attributes\n",
    "\n",
    "Write your code in the cell below:\n"
   ]
  },
  {
   "cell_type": "code",
   "execution_count": null,
   "metadata": {},
   "outputs": [],
   "source": [
    "# TODO: Create your Tuxedo class here\n",
    "# class Tuxedo(Cat):\n",
    "#     ...\n"
   ]
  },
  {
   "cell_type": "markdown",
   "metadata": {},
   "source": [
    "### Task 2: Create Instances\n",
    "\n",
    "Create instances to demonstrate the difference between `Cat` and `Tuxedo`:\n",
    "\n",
    "1. Create a generic `Cat` instance\n",
    "2. Create a `Tuxedo` instance\n",
    "3. Call methods on both to show the differences\n"
   ]
  },
  {
   "cell_type": "code",
   "execution_count": null,
   "metadata": {},
   "outputs": [],
   "source": [
    "# TO DO: Create your instances here and demonstrate the differences\n",
    "\n",
    "# Example structure:\n",
    "# generic_cat = Cat(\"Whiskers\", 4)\n",
    "# tuxedo_cat = Tuxedo(\"Mr. Mittens\", 3, ...)\n",
    "\n",
    "# print(generic_cat.meow())\n",
    "# print(tuxedo_cat.meow())\n",
    "# ...\n"
   ]
  },
  {
   "cell_type": "code",
   "execution_count": null,
   "metadata": {},
   "outputs": [],
   "source": [
    "# Create instances\n",
    "whiskers = Cat(\"Whiskers\", 4)\n",
    "# mr_mittens = Tuxedo( ??? )\n",
    "\n",
    "print(\"=== Generic Cat ===\")\n",
    "# call your methods here!\n",
    "\n",
    "print(\"\\n=== Tuxedo Cat ===\")\n",
    "# call your methods here!\n",
    "\n"
   ]
  },
  {
   "cell_type": "markdown",
   "metadata": {},
   "source": [
    "---\n",
    "\n",
    "\n",
    "### Multiple Inheritance\n",
    "\n",
    "Python supports **multiple inheritance**, where a class can inherit from multiple parent classes:\n",
    "\n",
    "```python\n",
    "class ChildClass(Parent1, Parent2):\n",
    "    pass\n",
    "```\n",
    "\n",
    "**Note:** Multiple inheritance can get complex. Use it carefully and consider alternative design patterns when possible.\n",
    "\n",
    "---\n",
    "\n",
    "### The `isinstance()` Function\n",
    "\n",
    "You can check if an object is an instance of a class or its parent:\n"
   ]
  },
  {
   "cell_type": "code",
   "execution_count": null,
   "metadata": {},
   "outputs": [],
   "source": [
    "# Using isinstance() to check object types\n",
    "print(\"buddy is a GoldenRetriever:\", isinstance(buddy, GoldenRetriever))\n",
    "print(\"buddy is a Dog:\", isinstance(buddy, Dog))  # True! GoldenRetriever IS A Dog\n",
    "print(\"buddy is a Cat:\", isinstance(buddy, Cat))  # False\n",
    "\n",
    "print(\"\\ngeneric_dog is a Dog:\", isinstance(generic_dog, Dog))\n",
    "print(\"generic_dog is a GoldenRetriever:\", isinstance(generic_dog, GoldenRetriever))  # False\n"
   ]
  },
  {
   "cell_type": "markdown",
   "metadata": {},
   "source": [
    "---\n",
    "\n",
    "## Best Practices for Inheritance\n",
    "\n",
    "### 1. Use the \"Is-A\" Test\n",
    "Only use inheritance when there's a true \"is-a\" relationship:\n",
    "- \"A GoldenRetriever **is a** Dog\" → Good use of inheritance\n",
    "- \"A Car **has a** Engine\" → Use composition instead (store engine as an attribute)\n",
    "\n",
    "### 2. Keep Hierarchies Shallow\n",
    "Avoid deep inheritance chains (parent → child → grandchild → ...). They become hard to understand and maintain.\n",
    "\n",
    "### 3. Don't Override Methods Unnecessarily\n",
    "Only override methods when you need different behavior. Inherit when possible!\n",
    "\n",
    "### 4. Use `super()` Properly\n",
    "Always call `super().__init__()` in child class constructors to properly initialize parent attributes.\n",
    "\n",
    "### 5. Document Your Classes\n",
    "Use docstrings to explain what each class does and how it relates to its parent.\n",
    "\n",
    "---\n"
   ]
  },
  {
   "cell_type": "markdown",
   "metadata": {},
   "source": [
    "## Real-World Applications\n",
    "\n",
    "### Where is Inheritance Used?\n",
    "\n",
    "| Domain | Example Hierarchy |\n",
    "|--------|------------------|\n",
    "| **Game Development** | `Character` → `Player`, `Enemy`, `NPC` |\n",
    "| **GUI Programming** | `Widget` → `Button`, `TextBox`, `Slider` |\n",
    "| **Web Development** | `HTTPRequest` → `GetRequest`, `PostRequest` |\n",
    "| **Scientific Computing** | `Model` → `LinearModel`, `NeuralNetwork` |\n",
    "| **Data Science** | `Estimator` → `Classifier`, `Regressor` (sklearn) |\n",
    "\n",
    "### Example: sklearn Machine Learning\n",
    "\n",
    "Libraries like `scikit-learn` use inheritance extensively:\n",
    "\n",
    "```python\n",
    "from sklearn.base import BaseEstimator\n",
    "\n",
    "class LinearRegression(BaseEstimator):\n",
    "    # Inherits fit(), predict(), etc.\n",
    "    pass\n",
    "\n",
    "class LogisticRegression(BaseEstimator):\n",
    "    # Inherits the same interface\n",
    "    pass\n",
    "```\n",
    "\n",
    "This creates a **consistent interface** across different models!\n",
    "\n",
    "---\n"
   ]
  },
  {
   "cell_type": "markdown",
   "metadata": {},
   "source": [
    "## Quick Review Questions\n",
    "\n",
    "**Discuss with a partner or think through:**\n",
    "\n",
    "1. **What is the difference between a parent class, a child class, and an instance?**\n",
    "\n",
    "2. **When should you use inheritance vs. composition?**\n",
    "   - Hint: Think about the \"is-a\" vs. \"has-a\" relationship\n",
    "\n",
    "3. **What does `super().__init__()` do and why is it important?**\n",
    "\n",
    "4. **Can you override any method in a child class? Should you?**\n",
    "\n",
    "5. **Give an example of inheritance from your own interests** (sports, music, technology, etc.)\n",
    "\n",
    "---\n"
   ]
  }
 ],
 "metadata": {
  "kernelspec": {
   "display_name": "cps",
   "language": "python",
   "name": "python3"
  },
  "language_info": {
   "codemirror_mode": {
    "name": "ipython",
    "version": 3
   },
   "file_extension": ".py",
   "mimetype": "text/x-python",
   "name": "python",
   "nbconvert_exporter": "python",
   "pygments_lexer": "ipython3",
   "version": "3.13.7"
  }
 },
 "nbformat": 4,
 "nbformat_minor": 2
}
