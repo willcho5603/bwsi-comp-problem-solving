{
 "cells": [
  {
   "cell_type": "markdown",
   "metadata": {},
   "source": [
    "# 🎓 Foundations of Applied Math\n",
    "## Review of Computational Math\n",
    "\n",
    "---"
   ]
  },
  {
   "cell_type": "markdown",
   "metadata": {},
   "source": [
    "## 📚 What We'll Cover Today\n",
    "\n",
    "1. **What is computational math?**\n",
    "2. **Discrete vs. Continuous values**\n",
    "3. **Vectors & Matrices** (quick review)\n",
    "4. **Matrix Operations** (addition, multiplication, and more)\n",
    "5. **Determinants** (what they tell us)\n",
    "\n",
    "---"
   ]
  },
  {
   "cell_type": "markdown",
   "metadata": {},
   "source": [
    "## 1️⃣ What is Computational Math?\n",
    "\n",
    "### Simple Definition\n",
    "\n",
    "**Math that uses a computer to help solve problems.**\n",
    "\n",
    "We use computers to:\n",
    "- Calculate fast\n",
    "- Test ideas\n",
    "- Simulate real situations\n",
    "- Make sense of data"
   ]
  },
  {
   "cell_type": "markdown",
   "metadata": {},
   "source": [
    "### Main Areas of Computational Math\n",
    "\n",
    "| Area | What It Does | Example |\n",
    "|------|-------------|----------|\n",
    "| **Numerical Methods** | Approximates answers when exact formulas are hard | Estimating square roots, predicting rocket paths |\n",
    "| **Discrete Math** | Works with countable things like networks and paths | Finding shortest delivery routes, Sudoku solvers |\n",
    "| **Simulation** | Creates virtual experiments to see how systems behave | Modeling rumor spread, averaging dice rolls |\n",
    "| **Computational Statistics** | Uses data and randomness to find patterns | Predicting grades from study time, testing if a coin is fair |\n",
    "| **Optimization** | Finds the best option under constraints | Planning cheapest road trips, fastest running routes |\n",
    "| **Data Analysis** | Uses large datasets and visualizations to find insights | Graphing weather data, analyzing sports stats |\n",
    "\n",
    "---"
   ]
  },
  {
   "cell_type": "markdown",
   "metadata": {},
   "source": [
    "## 2️⃣ Discrete vs. Continuous Values\n",
    "\n",
    "### The Key Difference\n",
    "\n",
    "**Discrete:** Separate, countable values  \n",
    "→ *Examples:* number of people, cars, messages sent\n",
    "\n",
    "**Continuous:** Smooth range of values  \n",
    "→ *Examples:* time, distance, temperature"
   ]
  },
  {
   "cell_type": "markdown",
   "metadata": {},
   "source": [
    "### Think of it This Way:\n",
    "\n",
    "| Discrete | Continuous |\n",
    "|----------|------------|\n",
    "| **\"How many?\"** | **\"How much?\"** |\n",
    "| Count: 1, 2, 3... | Measure: 1.5, 2.73, π... |"
   ]
  },
  {
   "cell_type": "markdown",
   "metadata": {},
   "source": [
    "### Connection to Math Types\n",
    "\n",
    "- **Analytic Math:** Exact, symbolic, continuous\n",
    "- **Numerical Math:** Approximate, step-by-step, discrete (what computers do!)"
   ]
  },
  {
   "cell_type": "markdown",
   "metadata": {},
   "source": [
    "### 🤔 Quick Check\n",
    "\n",
    "**Think about these questions:**\n",
    "1. Messages per day — discrete or continuous?\n",
    "2. Temperature over time — discrete or continuous?\n",
    "3. How could we model continuous temperature with discrete computer data?\n",
    "\n",
    "---"
   ]
  },
  {
   "cell_type": "markdown",
   "metadata": {},
   "source": [
    "## 3️⃣ Quick Review: Vectors & Matrices\n",
    "\n",
    "### Vectors\n",
    "\n",
    "An **ordered list of numbers**"
   ]
  },
  {
   "cell_type": "markdown",
   "metadata": {},
   "source": [
    "$$\n",
    "\\mathbf{v} = \\begin{bmatrix}2 \\\\ -1 \\\\ 3\\end{bmatrix}\n",
    "$$"
   ]
  },
  {
   "cell_type": "markdown",
   "metadata": {},
   "source": [
    "### Matrices\n",
    "\n",
    "A **grid of numbers** (rows × columns)"
   ]
  },
  {
   "cell_type": "markdown",
   "metadata": {},
   "source": [
    "$$\n",
    "A = \\begin{bmatrix}1 & 2 & 3 \\\\ 4 & 5 & 6\\end{bmatrix}\n",
    "$$"
   ]
  },
  {
   "cell_type": "markdown",
   "metadata": {},
   "source": [
    "### Why Do We Use Them?\n",
    "\n",
    "- Store data efficiently\n",
    "- Model complex systems\n",
    "- Perform fast computations"
   ]
  },
  {
   "cell_type": "markdown",
   "metadata": {},
   "source": [
    "### 💻 Let's See Them in Python!"
   ]
  },
  {
   "cell_type": "code",
   "execution_count": null,
   "metadata": {},
   "outputs": [],
   "source": [
    "import numpy as np\n",
    "\n",
    "# Create a vector\n",
    "v = np.array([2, -1, 3])\n",
    "print(\"Vector v:\", v)\n",
    "print(\"Shape:\", v.shape)\n",
    "print()"
   ]
  },
  {
   "cell_type": "code",
   "execution_count": null,
   "metadata": {},
   "outputs": [],
   "source": [
    "# Create a matrix\n",
    "A = np.array([[1, 2, 3],\n",
    "              [4, 5, 6]])\n",
    "print(\"Matrix A:\")\n",
    "print(A)\n",
    "print(\"Shape (rows × columns):\", A.shape)"
   ]
  },
  {
   "cell_type": "markdown",
   "metadata": {},
   "source": [
    "---"
   ]
  },
  {
   "cell_type": "markdown",
   "metadata": {},
   "source": [
    "## 4️⃣ Matrix Operations\n",
    "\n",
    "Now let's learn what we can **do** with matrices!"
   ]
  },
  {
   "cell_type": "markdown",
   "metadata": {},
   "source": [
    "### 4.1 ➕ Addition & Subtraction\n",
    "\n",
    "**Rule:** Matrices must be the **same size**  \n",
    "**How:** Add or subtract corresponding elements"
   ]
  },
  {
   "cell_type": "markdown",
   "metadata": {},
   "source": [
    "$$\n",
    "A = \\begin{bmatrix}1 & 2 \\\\ 3 & 4\\end{bmatrix}, \\quad \n",
    "B = \\begin{bmatrix}5 & 6 \\\\ 7 & 8\\end{bmatrix}\n",
    "$$"
   ]
  },
  {
   "cell_type": "markdown",
   "metadata": {},
   "source": [
    "$$\n",
    "A + B = \\begin{bmatrix}6 & 8 \\\\ 10 & 12\\end{bmatrix}, \\quad\n",
    "A - B = \\begin{bmatrix}-4 & -4 \\\\ -4 & -4\\end{bmatrix}\n",
    "$$"
   ]
  },
  {
   "cell_type": "code",
   "execution_count": null,
   "metadata": {},
   "outputs": [],
   "source": [
    "# Let's try it!\n",
    "A = np.array([[1, 2], [3, 4]])\n",
    "B = np.array([[5, 6], [7, 8]])\n",
    "\n",
    "print(\"A + B =\")\n",
    "print(A + B)\n",
    "print()"
   ]
  },
  {
   "cell_type": "code",
   "execution_count": null,
   "metadata": {},
   "outputs": [],
   "source": [
    "print(\"A - B =\")\n",
    "print(A - B)"
   ]
  },
  {
   "cell_type": "markdown",
   "metadata": {},
   "source": [
    "### 4.2 ✖️ Matrix Multiplication\n",
    "\n",
    "**Rule:** Inner dimensions must match  \n",
    "**Important:** Order matters! $A \\times B \\neq B \\times A$  \n",
    "**How:** Multiply rows by columns"
   ]
  },
  {
   "cell_type": "markdown",
   "metadata": {},
   "source": [
    "$$\n",
    "A = \\begin{bmatrix}1 & 2 \\\\ 3 & 4\\end{bmatrix}, \\quad\n",
    "B = \\begin{bmatrix}2 & 0 \\\\ 1 & 2\\end{bmatrix}\n",
    "$$"
   ]
  },
  {
   "cell_type": "markdown",
   "metadata": {},
   "source": [
    "$$\n",
    "A \\times B = \\begin{bmatrix}1\\cdot2 + 2\\cdot1 & 1\\cdot0 + 2\\cdot2 \\\\ 3\\cdot2 + 4\\cdot1 & 3\\cdot0 + 4\\cdot2\\end{bmatrix}\n",
    "= \\begin{bmatrix}4 & 4 \\\\ 10 & 8\\end{bmatrix}\n",
    "$$"
   ]
  },
  {
   "cell_type": "code",
   "execution_count": null,
   "metadata": {},
   "outputs": [],
   "source": [
    "A = np.array([[1, 2], [3, 4]])\n",
    "B = np.array([[2, 0], [1, 2]])\n",
    "\n",
    "print(\"A @ B =\")\n",
    "print(A @ B)\n",
    "print()"
   ]
  },
  {
   "cell_type": "code",
   "execution_count": null,
   "metadata": {},
   "outputs": [],
   "source": [
    "print(\"B @ A =\")\n",
    "print(B @ A)\n",
    "print()\n",
    "print(\"Notice: They're different! Order matters.\")"
   ]
  },
  {
   "cell_type": "markdown",
   "metadata": {},
   "source": [
    "### Special Matrix: Identity Matrix\n",
    "\n",
    "Acts like multiplying by 1"
   ]
  },
  {
   "cell_type": "markdown",
   "metadata": {},
   "source": [
    "$$\n",
    "I = \\begin{bmatrix}1 & 0 \\\\ 0 & 1\\end{bmatrix}, \\quad A \\times I = A\n",
    "$$"
   ]
  },
  {
   "cell_type": "code",
   "execution_count": null,
   "metadata": {},
   "outputs": [],
   "source": [
    "I = np.eye(2)  # Creates a 2x2 identity matrix\n",
    "print(\"Identity matrix I:\")\n",
    "print(I)\n",
    "print()\n",
    "\n",
    "print(\"A @ I =\")\n",
    "print(A @ I)\n",
    "print(\"See? We got A back!\")"
   ]
  },
  {
   "cell_type": "markdown",
   "metadata": {},
   "source": [
    "### 4.3 ➗ \"Matrix Division\" (Inverse)\n",
    "\n",
    "We don't divide matrices directly. Instead, we multiply by the **inverse** $A^{-1}$"
   ]
  },
  {
   "cell_type": "markdown",
   "metadata": {},
   "source": [
    "$$\n",
    "A^{-1}A = I\n",
    "$$"
   ]
  },
  {
   "cell_type": "markdown",
   "metadata": {},
   "source": [
    "**Example:**"
   ]
  },
  {
   "cell_type": "markdown",
   "metadata": {},
   "source": [
    "$$\n",
    "A = \\begin{bmatrix}2 & 0 \\\\ 0 & 4\\end{bmatrix}, \\quad\n",
    "A^{-1} = \\begin{bmatrix}1/2 & 0 \\\\ 0 & 1/4\\end{bmatrix}\n",
    "$$"
   ]
  },
  {
   "cell_type": "code",
   "execution_count": null,
   "metadata": {},
   "outputs": [],
   "source": [
    "A = np.array([[2, 0], [0, 4]])\n",
    "A_inv = np.linalg.inv(A)\n",
    "\n",
    "print(\"A =\")\n",
    "print(A)\n",
    "print()\n",
    "\n",
    "print(\"A inverse =\")\n",
    "print(A_inv)\n",
    "print()"
   ]
  },
  {
   "cell_type": "code",
   "execution_count": null,
   "metadata": {},
   "outputs": [],
   "source": [
    "print(\"A @ A_inverse =\")\n",
    "print(A @ A_inv)\n",
    "print(\"We get the identity matrix!\")"
   ]
  },
  {
   "cell_type": "markdown",
   "metadata": {},
   "source": [
    "### 4.4 🔵 Dot Product\n",
    "\n",
    "**For vectors:** Multiply corresponding elements and add them up  \n",
    "**Result:** One number"
   ]
  },
  {
   "cell_type": "markdown",
   "metadata": {},
   "source": [
    "$$\n",
    "\\mathbf{a} = \\begin{bmatrix}2 \\\\ 3 \\\\ 4\\end{bmatrix}, \\quad\n",
    "\\mathbf{b} = \\begin{bmatrix}1 \\\\ 0 \\\\ -1\\end{bmatrix}\n",
    "$$"
   ]
  },
  {
   "cell_type": "markdown",
   "metadata": {},
   "source": [
    "$$\n",
    "\\mathbf{a} \\cdot \\mathbf{b} = (2)(1) + (3)(0) + (4)(-1) = -2\n",
    "$$"
   ]
  },
  {
   "cell_type": "markdown",
   "metadata": {},
   "source": [
    "**What it means:** How much two vectors point in the same direction"
   ]
  },
  {
   "cell_type": "code",
   "execution_count": null,
   "metadata": {},
   "outputs": [],
   "source": [
    "a = np.array([2, 3, 4])\n",
    "b = np.array([1, 0, -1])\n",
    "\n",
    "print(\"a =\", a)\n",
    "print(\"b =\", b)\n",
    "print()\n",
    "print(\"a · b =\", np.dot(a, b))"
   ]
  },
  {
   "cell_type": "markdown",
   "metadata": {},
   "source": [
    "### 4.5 ✖️ Cross Product (3D Only)\n",
    "\n",
    "**For 3D vectors:** Gives a new vector **perpendicular** to both inputs"
   ]
  },
  {
   "cell_type": "markdown",
   "metadata": {},
   "source": [
    "$$\n",
    "\\mathbf{a} = \\begin{bmatrix}1 \\\\ 0 \\\\ 0\\end{bmatrix}, \\quad\n",
    "\\mathbf{b} = \\begin{bmatrix}0 \\\\ 1 \\\\ 0\\end{bmatrix}\n",
    "$$"
   ]
  },
  {
   "cell_type": "markdown",
   "metadata": {},
   "source": [
    "$$\n",
    "\\mathbf{a} \\times \\mathbf{b} = \\begin{bmatrix}0 \\\\ 0 \\\\ 1\\end{bmatrix}\n",
    "$$"
   ]
  },
  {
   "cell_type": "markdown",
   "metadata": {},
   "source": [
    "**Tip:** Use the right-hand rule — x × y = z"
   ]
  },
  {
   "cell_type": "code",
   "execution_count": null,
   "metadata": {},
   "outputs": [],
   "source": [
    "i = np.array([1, 0, 0])\n",
    "j = np.array([0, 1, 0])\n",
    "\n",
    "print(\"i =\", i)\n",
    "print(\"j =\", j)\n",
    "print()\n",
    "print(\"i × j =\", np.cross(i, j))\n",
    "print(\"Points in the z direction!\")"
   ]
  },
  {
   "cell_type": "markdown",
   "metadata": {},
   "source": [
    "### 4.6 🔢 Matrix Powers\n",
    "\n",
    "**Multiply a matrix by itself multiple times**"
   ]
  },
  {
   "cell_type": "markdown",
   "metadata": {},
   "source": [
    "$$\n",
    "A = \\begin{bmatrix}1 & 1 \\\\ 0 & 1\\end{bmatrix}, \\quad\n",
    "A^2 = A \\times A = \\begin{bmatrix}1 & 2 \\\\ 0 & 1\\end{bmatrix}\n",
    "$$"
   ]
  },
  {
   "cell_type": "code",
   "execution_count": null,
   "metadata": {},
   "outputs": [],
   "source": [
    "A = np.array([[1, 1], [0, 1]])\n",
    "\n",
    "print(\"A =\")\n",
    "print(A)\n",
    "print()\n",
    "\n",
    "print(\"A² =\")\n",
    "print(np.linalg.matrix_power(A, 2))"
   ]
  },
  {
   "cell_type": "markdown",
   "metadata": {},
   "source": [
    "### Special Case: Idempotent Matrices\n",
    "\n",
    "Some matrices don't change when squared: $P^2 = P$"
   ]
  },
  {
   "cell_type": "markdown",
   "metadata": {},
   "source": [
    "$$\n",
    "P = \\begin{bmatrix}1 & 0 \\\\ 0 & 0\\end{bmatrix}, \\quad P^2 = P\n",
    "$$"
   ]
  },
  {
   "cell_type": "code",
   "execution_count": null,
   "metadata": {},
   "outputs": [],
   "source": [
    "P = np.array([[1, 0], [0, 0]])\n",
    "\n",
    "print(\"P =\")\n",
    "print(P)\n",
    "print()\n",
    "\n",
    "print(\"P² =\")\n",
    "print(P @ P)\n",
    "print()\n",
    "print(\"They're the same!\")"
   ]
  },
  {
   "cell_type": "markdown",
   "metadata": {},
   "source": [
    "---"
   ]
  },
  {
   "cell_type": "markdown",
   "metadata": {},
   "source": [
    "## 5️⃣ Determinants\n",
    "\n",
    "### What Is a Determinant?\n",
    "\n",
    "A **single number** that tells how a matrix **stretches or flips** space"
   ]
  },
  {
   "cell_type": "markdown",
   "metadata": {},
   "source": [
    "### What It Tells Us:\n",
    "\n",
    "| Determinant | Meaning |\n",
    "|------------|----------|\n",
    "| det = 0 | Matrix \"flattens\" space (no inverse!) |\n",
    "| det > 0 | Preserves orientation |\n",
    "| det < 0 | Flips orientation |"
   ]
  },
  {
   "cell_type": "markdown",
   "metadata": {},
   "source": [
    "### Formula for 2×2 Matrices\n",
    "\n",
    "For a 2×2 matrix:"
   ]
  },
  {
   "cell_type": "markdown",
   "metadata": {},
   "source": [
    "$$\n",
    "A = \\begin{bmatrix}a & b \\\\ c & d\\end{bmatrix}\n",
    "$$"
   ]
  },
  {
   "cell_type": "markdown",
   "metadata": {},
   "source": [
    "$$\n",
    "\\det(A) = ad - bc\n",
    "$$"
   ]
  },
  {
   "cell_type": "markdown",
   "metadata": {},
   "source": [
    "### Example"
   ]
  },
  {
   "cell_type": "markdown",
   "metadata": {},
   "source": [
    "$$\n",
    "A = \\begin{bmatrix}2 & 3 \\\\ 1 & 4\\end{bmatrix}\n",
    "$$"
   ]
  },
  {
   "cell_type": "markdown",
   "metadata": {},
   "source": [
    "$$\n",
    "\\det(A) = (2)(4) - (3)(1) = 8 - 3 = 5\n",
    "$$"
   ]
  },
  {
   "cell_type": "code",
   "execution_count": null,
   "metadata": {},
   "outputs": [],
   "source": [
    "A = np.array([[2, 3],\n",
    "              [1, 4]])\n",
    "\n",
    "print(\"A =\")\n",
    "print(A)\n",
    "print()"
   ]
  },
  {
   "cell_type": "code",
   "execution_count": null,
   "metadata": {},
   "outputs": [],
   "source": [
    "# Calculate by hand using the formula\n",
    "det_manual = A[0,0] * A[1,1] - A[0,1] * A[1,0]\n",
    "print(\"Determinant (by hand):\", det_manual)"
   ]
  },
  {
   "cell_type": "code",
   "execution_count": null,
   "metadata": {},
   "outputs": [],
   "source": [
    "# Using NumPy\n",
    "det_numpy = np.linalg.det(A)\n",
    "print(\"Determinant (NumPy):\", det_numpy)"
   ]
  },
  {
   "cell_type": "markdown",
   "metadata": {},
   "source": [
    "---"
   ]
  },
  {
   "cell_type": "markdown",
   "metadata": {},
   "source": [
    "## 🎯 Why Linear Algebra Matters\n",
    "\n",
    "### Real-World Applications\n",
    "\n",
    "| Field | How It's Used |\n",
    "|-------|---------------|\n",
    "| 🎮 **Video Games** | Move, rotate, and stretch 3D objects |\n",
    "| 📈 **Data Science** | Find the \"best-fit line\" through data points |\n",
    "| ⚙️ **Engineering** | Predict how bridges bend, how robots move |\n",
    "| 💰 **Economics** | Balance costs and profits with multiple products |\n",
    "| 🧠 **AI & Machine Learning** | Computers use matrices to find patterns and learn |"
   ]
  },
  {
   "cell_type": "markdown",
   "metadata": {},
   "source": [
    "### The Big Picture\n",
    "\n",
    "💡 *Linear algebra helps computers handle many relationships at once — it's how they \"see,\" \"learn,\" and make predictions.*\n",
    "\n",
    "💡 *Vectors and matrices are the language computers use to model, simulate, and optimize real-world problems.*"
   ]
  },
  {
   "cell_type": "markdown",
   "metadata": {},
   "source": [
    "---"
   ]
  },
  {
   "cell_type": "markdown",
   "metadata": {},
   "source": [
    "## ✅ Quick Review Questions\n",
    "\n",
    "**Discuss with a partner:**\n",
    "\n",
    "1. **Discrete or continuous:**\n",
    "   - Number of texts per day?\n",
    "   - Temperature over a day?\n",
    "\n",
    "2. **Why does order matter in matrix multiplication?** Give a quick example.\n",
    "\n",
    "3. **What does determinant = 0 tell you about a transformation?**\n",
    "\n",
    "4. **Name one real-world application of matrices that interests you.**"
   ]
  },
  {
   "cell_type": "markdown",
   "metadata": {},
   "source": [
    "---\n",
    "\n",
    "## 🎓 Great Job!\n",
    "\n",
    "You've completed the computational math review. You now understand:\n",
    "- What computational math is and why we use it\n",
    "- The difference between discrete and continuous values\n",
    "- How to work with vectors and matrices\n",
    "- Essential matrix operations\n",
    "- What determinants tell us about transformations\n",
    "\n",
    "**Next lesson:** We'll apply these concepts to solve real-world problems!"
   ]
  }
 ],
 "metadata": {
  "kernelspec": {
   "display_name": "Python 3",
   "language": "python",
   "name": "python3"
  },
  "language_info": {
   "codemirror_mode": {
    "name": "ipython",
    "version": 3
   },
   "file_extension": ".py",
   "mimetype": "text/x-python",
   "name": "python",
   "nbconvert_exporter": "python",
   "pygments_lexer": "ipython3",
   "version": "3.8.0"
  }
 },
 "nbformat": 4,
 "nbformat_minor": 4
}
